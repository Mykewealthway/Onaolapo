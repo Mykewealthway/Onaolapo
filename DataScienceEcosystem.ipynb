{
 "cells": [
  {
   "cell_type": "markdown",
   "id": "1c6251a1",
   "metadata": {},
   "source": [
    "#  Data Science Tools and Ecosystem"
   ]
  },
  {
   "cell_type": "markdown",
   "id": "270e0344",
   "metadata": {},
   "source": [
    "###### In this notebook, Data Science Tools and Ecosystem are summarized."
   ]
  },
  {
   "cell_type": "markdown",
   "id": "dcfd4c81",
   "metadata": {},
   "source": [
    "### Objectives:\n",
    "\n",
    "- Popular Languages that Data scientist use\n",
    "- Commonly used Libraries by Data Scientits\n",
    "- Data sccience tools\n",
    "- Evaluating Arithemetic expression"
   ]
  },
  {
   "cell_type": "markdown",
   "id": "b26c6f66",
   "metadata": {},
   "source": [
    "## Some of the popular languages that Data Scientists use are\n",
    "\n",
    "1. Python\n",
    "2. R\n",
    "3. Java\n",
    "4. Javascript\n",
    "5. Julia\n"
   ]
  },
  {
   "cell_type": "markdown",
   "id": "9db40291",
   "metadata": {},
   "source": [
    "### Some of the commonly used libraries used by Data Scientists include\n",
    "\n",
    "\n",
    "1. Pytorch\n",
    "2. Tensorflow\n",
    "3. SciKit\n",
    "4. Matplotlib\n",
    "5. Pandas"
   ]
  },
  {
   "cell_type": "markdown",
   "id": "7fb5a966",
   "metadata": {},
   "source": [
    "### Data Science Tools\n",
    "\n",
    "1. Jupyter\n",
    "2. Apache Zepplein\n",
    "3. R-Studio\n",
    "4. Spyder\n",
    "5. Jupyter Lab"
   ]
  },
  {
   "cell_type": "markdown",
   "id": "cac74a61",
   "metadata": {},
   "source": [
    "### Below are a few examples of evaluating arithmetic expressions in Python"
   ]
  },
  {
   "cell_type": "code",
   "execution_count": 16,
   "id": "6ca97149",
   "metadata": {},
   "outputs": [
    {
     "data": {
      "text/plain": [
       "17"
      ]
     },
     "execution_count": 16,
     "metadata": {},
     "output_type": "execute_result"
    }
   ],
   "source": [
    "(3*4)+5 # This a simple arithmetic expression to mutiply then add integers"
   ]
  },
  {
   "cell_type": "code",
   "execution_count": 15,
   "id": "97c812b8",
   "metadata": {},
   "outputs": [
    {
     "data": {
      "text/plain": [
       "3.3333333333333335"
      ]
     },
     "execution_count": 15,
     "metadata": {},
     "output_type": "execute_result"
    }
   ],
   "source": [
    "# This will convert 200 minutes to hours by diving by 60\n",
    "(200/60)"
   ]
  },
  {
   "cell_type": "markdown",
   "id": "0c263924",
   "metadata": {},
   "source": [
    "## Author\n",
    "Onaolapo Afelumo\n"
   ]
  }
 ],
 "metadata": {
  "kernelspec": {
   "display_name": "Python 3 (ipykernel)",
   "language": "python",
   "name": "python3"
  },
  "language_info": {
   "codemirror_mode": {
    "name": "ipython",
    "version": 3
   },
   "file_extension": ".py",
   "mimetype": "text/x-python",
   "name": "python",
   "nbconvert_exporter": "python",
   "pygments_lexer": "ipython3",
   "version": "3.11.4"
  }
 },
 "nbformat": 4,
 "nbformat_minor": 5
}
